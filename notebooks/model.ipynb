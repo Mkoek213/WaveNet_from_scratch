{
 "cells": [
  {
   "cell_type": "code",
   "execution_count": 2,
   "metadata": {},
   "outputs": [
    {
     "name": "stdout",
     "output_type": "stream",
     "text": [
      "32658\n",
      "15\n",
      "['emma', 'olivia', 'ava', 'isabella', 'sophia', 'charlotte', 'mia', 'amelia']\n"
     ]
    }
   ],
   "source": [
    "import torch\n",
    "import torch.nn.functional as F\n",
    "import matplotlib.pyplot as plt # for making figures\n",
    "%matplotlib inline\n",
    "torch.manual_seed(42)\n",
    "\n",
    "words = open('names.txt', 'r').read().splitlines()\n",
    "print(len(words))\n",
    "print(max(len(w) for w in words))\n",
    "print(words[:8])"
   ]
  },
  {
   "cell_type": "code",
   "execution_count": 3,
   "metadata": {},
   "outputs": [
    {
     "name": "stdout",
     "output_type": "stream",
     "text": [
      "{1: 'a', 2: 'b', 3: 'c', 4: 'd', 5: 'e', 6: 'f', 7: 'g', 8: 'h', 9: 'i', 10: 'j', 11: 'k', 12: 'l', 13: 'm', 14: 'n', 15: 'o', 16: 'p', 17: 'q', 18: 'r', 19: 's', 20: 't', 21: 'u', 22: 'v', 23: 'w', 24: 'x', 25: 'y', 26: 'z', 27: 'ó', 28: 'ę', 29: 'ł', 30: 'ń', 31: 'ś', 32: 'ż', 0: '.'}\n",
      "33\n"
     ]
    }
   ],
   "source": [
    "chars = sorted(list(set(''.join(words))))\n",
    "stoi = {s:i+1 for i,s in enumerate(chars)}\n",
    "stoi['.'] = 0\n",
    "itos = {i:s for s,i in stoi.items()}\n",
    "vocab_size = len(itos)\n",
    "print(itos)\n",
    "print(vocab_size)"
   ]
  },
  {
   "cell_type": "code",
   "execution_count": 29,
   "metadata": {},
   "outputs": [
    {
     "name": "stdout",
     "output_type": "stream",
     "text": [
      "X shape: torch.Size([186474, 8])\n",
      "Y shape: torch.Size([186474])\n",
      "X shape: torch.Size([23373, 8])\n",
      "Y shape: torch.Size([23373])\n",
      "X shape: torch.Size([23205, 8])\n",
      "Y shape: torch.Size([23205])\n"
     ]
    }
   ],
   "source": [
    "import random\n",
    "random.seed(42)\n",
    "random.shuffle(words)\n",
    "\n",
    "block_size = 8 # in paper they used block size 16, but because we are predicting names they usually are smaller than 16 characters\n",
    "\n",
    "def build_dataset(words):  \n",
    "  X, Y = [], []\n",
    "  \n",
    "  for w in words:\n",
    "    context = [0] * block_size\n",
    "    for ch in w + '.':\n",
    "      ix = stoi[ch]\n",
    "      X.append(context)\n",
    "      Y.append(ix)\n",
    "      context = context[1:] + [ix] \n",
    "\n",
    "  X = torch.tensor(X)\n",
    "  Y = torch.tensor(Y)\n",
    "  print(\"X shape:\", X.shape)  # Expected: (num_samples, block_size)\n",
    "  print(\"Y shape:\", Y.shape)  # Expected: (num_samples,)\n",
    "  return X, Y\n",
    "\n",
    "n1 = int(0.8*len(words))\n",
    "n2 = int(0.9*len(words))\n",
    "Xtrain,  Ytrain  = build_dataset(words[:n1])    \n",
    "Xdev, Ydev = build_dataset(words[n1:n2])  \n",
    "Xtest,  Ytest  = build_dataset(words[n2:])  "
   ]
  },
  {
   "cell_type": "code",
   "execution_count": 5,
   "metadata": {},
   "outputs": [
    {
     "name": "stdout",
     "output_type": "stream",
     "text": [
      "........ --> p\n",
      ".......p --> r\n",
      "......pr --> z\n",
      ".....prz --> e\n",
      "....prze --> m\n",
      "...przem --> y\n",
      "..przemy --> s\n",
      ".przemys --> ł\n",
      "przemysł --> a\n",
      "rzemysła --> w\n",
      "zemysław --> .\n",
      "........ --> k\n",
      ".......k --> e\n",
      "......ke --> i\n",
      ".....kei --> r\n",
      "....keir --> r\n",
      "...keirr --> a\n",
      "..keirra --> .\n",
      "........ --> a\n",
      ".......a --> u\n"
     ]
    }
   ],
   "source": [
    "for x,y in zip(Xtrain[:20], Ytrain[:20]):\n",
    "  print(''.join(itos[ix.item()] for ix in x), '-->', itos[y.item()])"
   ]
  },
  {
   "cell_type": "code",
   "execution_count": 6,
   "metadata": {},
   "outputs": [],
   "source": [
    "\n",
    "\n",
    "class Linear:\n",
    "    def __init__(self, fan_in, fan_out, bias=True):\n",
    "        self.weight = torch.randn((fan_in, fan_out)) / (fan_in**0.5) \n",
    "        self.bias = torch.zeros(fan_out) if bias else None\n",
    "    \n",
    "    def __call__(self, x):\n",
    "        self.out = x @ self.weight\n",
    "        if self.bias is not None:\n",
    "            self.out += self.bias\n",
    "        return self.out\n",
    "    \n",
    "    def parameters(self):\n",
    "        return [self.weight] + ([] if self.bias is None else [self.bias])\n",
    "\n",
    "class BatchNorm1d:\n",
    "    def __init__(self, dim, eps=1e-5, momentum=0.1):\n",
    "        self.eps = eps\n",
    "        self.momentum = momentum\n",
    "        self.training = True\n",
    "\n",
    "        self.gamma = torch.ones(dim)\n",
    "        self.beta = torch.zeros(dim)\n",
    "\n",
    "        self.running_mean = torch.zeros(dim)\n",
    "        self.running_var = torch.ones(dim)\n",
    "\n",
    "    def __call__(self, x):\n",
    "        if self.training:\n",
    "            if x.ndim == 2:\n",
    "                dim = 0\n",
    "            elif x.ndim == 3:\n",
    "                dim = (0,1)\n",
    "\n",
    "            xmean = x.mean(dim=dim, keepdim=True)\n",
    "            xvar = x.var(dim=dim, keepdim=True)\n",
    "        else:\n",
    "            xmean = self.running_mean\n",
    "            xvar = self.running_var\n",
    "        \n",
    "        xhat = (x - xmean) / torch.sqrt(xvar + self.eps)\n",
    "        self.out = self.gamma * xhat + self.beta\n",
    "\n",
    "        if self.training:\n",
    "            with torch.no_grad():\n",
    "                self.running_mean = (1 - self.momentum) * self.running_mean + self.momentum * xmean\n",
    "                self.running_var = (1 - self.momentum) * self.running_var + self.momentum * xvar\n",
    "\n",
    "        return self.out\n",
    "    \n",
    "    def parameters(self):\n",
    "        return [self.gamma, self.beta]\n",
    "    \n",
    "class LeakyRelu:\n",
    "    def __call__(self, x):\n",
    "        self.out = torch.nn.functional.leaky_relu(x)\n",
    "        return self.out\n",
    "    \n",
    "    def parameters(self):\n",
    "        return []\n",
    "    \n",
    "class Relu:\n",
    "    def __call__(self, x):\n",
    "        self.out = torch.nn.functional.relu(x)\n",
    "        return self.out\n",
    "    \n",
    "    def parameters(self):\n",
    "        return []\n",
    "    \n",
    "\n",
    "class Adam:\n",
    "    def __init__(self, params, lr=0.001, beta1 = 0.9, beta2 = 0.999, eps = 1e-08):\n",
    "        self.lr = lr\n",
    "        self.params = params\n",
    "        self.beta1 = torch.tensor(beta1)\n",
    "        self.beta2 = torch.tensor(beta2)\n",
    "        self.eps = eps\n",
    "        self.m_d = {id(p) : torch.zeros_like(p) for p in params}\n",
    "        self.v_d = {id(p) : torch.zeros_like(p) for p in params}\n",
    "        self.t = 1\n",
    "\n",
    "    def step(self):\n",
    "        for param in self.params:\n",
    "            grad = param.grad\n",
    "            m = self.m_d[id(param)]\n",
    "            v = self.v_d[id(param)]\n",
    "\n",
    "            next_m = (torch.multiply(self.beta1, m) + torch.multiply(1.0 - self.beta1, grad))\n",
    "            next_v = (torch.multiply(self.beta2, v) + torch.multiply(1.0 - self.beta2, torch.pow(grad, 2)))\n",
    "\n",
    "            m_hat = torch.divide(next_m, (1 - torch.pow(self.beta1, self.t)))\n",
    "            v_hat = torch.divide(next_v, (1 - torch.pow(self.beta2, self.t)))\n",
    "\n",
    "            param.data = param.data - torch.divide(torch.multiply(self.lr, m_hat), (torch.sqrt(v_hat) + self.eps))\n",
    "\n",
    "            self.m_d[id(param)] = next_m\n",
    "            self.v_d[id(param)] = next_v\n",
    "        self.t += 1\n",
    "\n",
    "\n",
    "class Embedding:\n",
    "    def __init__(self, num_embeddings, embeddings_dim):\n",
    "        self.weight = torch.randn((num_embeddings, embeddings_dim))\n",
    "\n",
    "    def __call__(self, IX):\n",
    "        self.out = self.weight[IX]\n",
    "        return self.out\n",
    "    \n",
    "    def parameters(self):\n",
    "        return [self.weight]\n",
    "    \n",
    "\n",
    "class Flatten:\n",
    "    def __init__(self, n):\n",
    "        self.n = n\n",
    "\n",
    "    def __call__(self, x):\n",
    "        B, T, C = x.shape\n",
    "        x = x.view(B, T//self.n, C*self.n)\n",
    "        if x.shape[1] == 1:\n",
    "            x = x.squeeze(1)\n",
    "        self.out = x\n",
    "        return self.out\n",
    "\n",
    "    def parameters(self):\n",
    "        return []\n",
    "\n",
    "class Sequential:\n",
    "    def __init__(self, layers):\n",
    "        self.layers = layers\n",
    "\n",
    "    def __call__(self, x):\n",
    "        for layer in self.layers:\n",
    "            x = layer(x)\n",
    "        self.out = x\n",
    "        return self.out\n",
    "    \n",
    "    def parameters(self):\n",
    "        return [p for layer in self.layers for p in layer.parameters()]"
   ]
  },
  {
   "cell_type": "code",
   "execution_count": 7,
   "metadata": {},
   "outputs": [
    {
     "name": "stdout",
     "output_type": "stream",
     "text": [
      "77497\n"
     ]
    }
   ],
   "source": [
    "n_embd = 24\n",
    "n_hidden = 128\n",
    "\n",
    "model = Sequential([\n",
    "    Embedding(vocab_size, n_embd),\n",
    "    Flatten(2), Linear(n_embd * 2, n_hidden, bias = False), BatchNorm1d(n_hidden), LeakyRelu(),\n",
    "    Flatten(2), Linear(n_hidden * 2, n_hidden, bias = False), BatchNorm1d(n_hidden), LeakyRelu(),\n",
    "    Flatten(2), Linear(n_hidden * 2, n_hidden, bias = False), BatchNorm1d(n_hidden), LeakyRelu(),\n",
    "    Linear(n_hidden, vocab_size),\n",
    "])\n",
    "\n",
    "with torch.no_grad():\n",
    "    model.layers[-1].weight *= 0.1\n",
    "\n",
    "parameters = model.parameters()\n",
    "print(sum(p.nelement() for p in parameters))\n",
    "for p in parameters:\n",
    "    p.requires_grad = True"
   ]
  },
  {
   "cell_type": "code",
   "execution_count": 31,
   "metadata": {},
   "outputs": [
    {
     "name": "stdout",
     "output_type": "stream",
     "text": [
      "torch.Size([4, 8])\n"
     ]
    },
    {
     "data": {
      "text/plain": [
       "tensor([[ 0,  0,  8,  1, 18, 12,  5, 14],\n",
       "        [ 0, 20, 26,  9, 16, 16, 15, 18],\n",
       "        [ 0,  0,  0, 19,  8,  1, 14,  5],\n",
       "        [ 0,  0,  0,  0,  0, 13,  1, 18]])"
      ]
     },
     "execution_count": 31,
     "metadata": {},
     "output_type": "execute_result"
    }
   ],
   "source": [
    "ix = torch.randint(0, Xtrain.shape[0], (4,))\n",
    "Xb, Yb = Xtrain[ix], Ytrain[ix]\n",
    "logits = model(Xb)\n",
    "print(Xb.shape)\n",
    "Xb"
   ]
  },
  {
   "cell_type": "code",
   "execution_count": 9,
   "metadata": {},
   "outputs": [
    {
     "name": "stdout",
     "output_type": "stream",
     "text": [
      "torch.Size([4, 8, 24])\n",
      "torch.Size([4, 4, 48])\n",
      "torch.Size([4, 4, 128])\n"
     ]
    }
   ],
   "source": [
    "print(model.layers[0].out.shape)\n",
    "print(model.layers[1].out.shape)\n",
    "print(model.layers[2].out.shape)    "
   ]
  },
  {
   "cell_type": "code",
   "execution_count": 10,
   "metadata": {},
   "outputs": [
    {
     "name": "stdout",
     "output_type": "stream",
     "text": [
      "Embedding : (4, 8, 24)\n",
      "Flatten : (4, 4, 48)\n",
      "Linear : (4, 4, 128)\n",
      "BatchNorm1d : (4, 4, 128)\n",
      "LeakyRelu : (4, 4, 128)\n",
      "Flatten : (4, 2, 256)\n",
      "Linear : (4, 2, 128)\n",
      "BatchNorm1d : (4, 2, 128)\n",
      "LeakyRelu : (4, 2, 128)\n",
      "Flatten : (4, 256)\n",
      "Linear : (4, 128)\n",
      "BatchNorm1d : (4, 128)\n",
      "LeakyRelu : (4, 128)\n",
      "Linear : (4, 33)\n"
     ]
    }
   ],
   "source": [
    "for layer in model.layers:\n",
    "    print(layer.__class__.__name__, \":\", tuple(layer.out.shape))"
   ]
  },
  {
   "cell_type": "code",
   "execution_count": 21,
   "metadata": {},
   "outputs": [
    {
     "name": "stdout",
     "output_type": "stream",
     "text": [
      "torch.Size([32, 8])\n"
     ]
    }
   ],
   "source": [
    "print(Xb.shape)"
   ]
  },
  {
   "cell_type": "code",
   "execution_count": 25,
   "metadata": {},
   "outputs": [
    {
     "name": "stdout",
     "output_type": "stream",
     "text": [
      "torch.Size([33, 24])\n"
     ]
    }
   ],
   "source": [
    "print(model.layers[0].weight.shape)"
   ]
  },
  {
   "cell_type": "code",
   "execution_count": 28,
   "metadata": {},
   "outputs": [
    {
     "name": "stdout",
     "output_type": "stream",
     "text": [
      "torch.Size([32, 8, 24])\n",
      "tensor([[[ 1.9282,  1.4803,  0.9018,  ...,  1.0649,  0.8136,  1.6325],\n",
      "         [ 1.9282,  1.4803,  0.9018,  ...,  1.0649,  0.8136,  1.6325],\n",
      "         [ 1.9282,  1.4803,  0.9018,  ...,  1.0649,  0.8136,  1.6325],\n",
      "         ...,\n",
      "         [ 0.4646, -1.1777,  0.0978,  ...,  0.3833,  0.7292,  1.1939],\n",
      "         [-0.4620,  1.0813, -0.4895,  ..., -1.0283, -0.6695,  0.8262],\n",
      "         [ 0.0053,  0.3012,  0.1648,  ...,  1.1496, -0.7225,  0.6453]],\n",
      "\n",
      "        [[ 1.9282,  1.4803,  0.9018,  ...,  1.0649,  0.8136,  1.6325],\n",
      "         [ 1.9282,  1.4803,  0.9018,  ...,  1.0649,  0.8136,  1.6325],\n",
      "         [ 1.9282,  1.4803,  0.9018,  ...,  1.0649,  0.8136,  1.6325],\n",
      "         ...,\n",
      "         [ 0.1649, -2.1314, -0.1511,  ...,  0.2394, -0.5500,  0.0448],\n",
      "         [ 0.1649, -2.1314, -0.1511,  ...,  0.2394, -0.5500,  0.0448],\n",
      "         [ 1.2738,  1.3219,  0.6435,  ...,  2.1303, -1.2030, -0.4413]],\n",
      "\n",
      "        [[ 1.9282,  1.4803,  0.9018,  ...,  1.0649,  0.8136,  1.6325],\n",
      "         [ 1.9282,  1.4803,  0.9018,  ...,  1.0649,  0.8136,  1.6325],\n",
      "         [ 1.3463, -1.3429,  0.7264,  ..., -0.8326, -0.1940,  1.6453],\n",
      "         ...,\n",
      "         [-0.3695,  1.0820, -1.7772,  ...,  0.1164,  0.2351,  0.3984],\n",
      "         [-0.1606,  0.5425,  0.0738,  ..., -0.8487,  1.3425,  0.5212],\n",
      "         [-0.3695,  1.0820, -1.7772,  ...,  0.1164,  0.2351,  0.3984]],\n",
      "\n",
      "        ...,\n",
      "\n",
      "        [[ 1.9282,  1.4803,  0.9018,  ...,  1.0649,  0.8136,  1.6325],\n",
      "         [ 1.9282,  1.4803,  0.9018,  ...,  1.0649,  0.8136,  1.6325],\n",
      "         [ 1.9282,  1.4803,  0.9018,  ...,  1.0649,  0.8136,  1.6325],\n",
      "         ...,\n",
      "         [ 1.9282,  1.4803,  0.9018,  ...,  1.0649,  0.8136,  1.6325],\n",
      "         [ 1.9282,  1.4803,  0.9018,  ...,  1.0649,  0.8136,  1.6325],\n",
      "         [ 1.9282,  1.4803,  0.9018,  ...,  1.0649,  0.8136,  1.6325]],\n",
      "\n",
      "        [[ 1.9282,  1.4803,  0.9018,  ...,  1.0649,  0.8136,  1.6325],\n",
      "         [ 1.9282,  1.4803,  0.9018,  ...,  1.0649,  0.8136,  1.6325],\n",
      "         [ 1.9282,  1.4803,  0.9018,  ...,  1.0649,  0.8136,  1.6325],\n",
      "         ...,\n",
      "         [ 1.9282,  1.4803,  0.9018,  ...,  1.0649,  0.8136,  1.6325],\n",
      "         [ 1.9282,  1.4803,  0.9018,  ...,  1.0649,  0.8136,  1.6325],\n",
      "         [ 1.9282,  1.4803,  0.9018,  ...,  1.0649,  0.8136,  1.6325]],\n",
      "\n",
      "        [[ 1.9282,  1.4803,  0.9018,  ...,  1.0649,  0.8136,  1.6325],\n",
      "         [ 1.9282,  1.4803,  0.9018,  ...,  1.0649,  0.8136,  1.6325],\n",
      "         [ 1.9282,  1.4803,  0.9018,  ...,  1.0649,  0.8136,  1.6325],\n",
      "         ...,\n",
      "         [ 1.9282,  1.4803,  0.9018,  ...,  1.0649,  0.8136,  1.6325],\n",
      "         [ 1.9282,  1.4803,  0.9018,  ...,  1.0649,  0.8136,  1.6325],\n",
      "         [ 1.9282,  1.4803,  0.9018,  ...,  1.0649,  0.8136,  1.6325]]],\n",
      "       grad_fn=<IndexBackward0>)\n"
     ]
    }
   ],
   "source": [
    "layer_emb = model.layers[0]\n",
    "print(layer_emb( Xb ).shape)\n",
    "print(layer_emb.out)"
   ]
  },
  {
   "cell_type": "code",
   "execution_count": 14,
   "metadata": {},
   "outputs": [
    {
     "name": "stdout",
     "output_type": "stream",
     "text": [
      "      0/  20000: 3.4947\n",
      "    100/  20000: 2.5430\n",
      "    200/  20000: 2.4220\n"
     ]
    },
    {
     "ename": "KeyboardInterrupt",
     "evalue": "",
     "output_type": "error",
     "traceback": [
      "\u001b[0;31m---------------------------------------------------------------------------\u001b[0m",
      "\u001b[0;31mKeyboardInterrupt\u001b[0m                         Traceback (most recent call last)",
      "Cell \u001b[0;32mIn[14], line 14\u001b[0m\n\u001b[1;32m     11\u001b[0m Xb, Yb \u001b[38;5;241m=\u001b[39m Xtrain[ix], Ytrain[ix]\n\u001b[1;32m     13\u001b[0m \u001b[38;5;66;03m# forward pass:\u001b[39;00m\n\u001b[0;32m---> 14\u001b[0m logits \u001b[38;5;241m=\u001b[39m \u001b[43mmodel\u001b[49m\u001b[43m(\u001b[49m\u001b[43mXb\u001b[49m\u001b[43m)\u001b[49m\n\u001b[1;32m     15\u001b[0m loss \u001b[38;5;241m=\u001b[39m F\u001b[38;5;241m.\u001b[39mcross_entropy(logits, Yb)\n\u001b[1;32m     17\u001b[0m \u001b[38;5;28;01mfor\u001b[39;00m p \u001b[38;5;129;01min\u001b[39;00m parameters:\n",
      "Cell \u001b[0;32mIn[6], line 133\u001b[0m, in \u001b[0;36mSequential.__call__\u001b[0;34m(self, x)\u001b[0m\n\u001b[1;32m    131\u001b[0m \u001b[38;5;28;01mdef\u001b[39;00m \u001b[38;5;21m__call__\u001b[39m(\u001b[38;5;28mself\u001b[39m, x):\n\u001b[1;32m    132\u001b[0m     \u001b[38;5;28;01mfor\u001b[39;00m layer \u001b[38;5;129;01min\u001b[39;00m \u001b[38;5;28mself\u001b[39m\u001b[38;5;241m.\u001b[39mlayers:\n\u001b[0;32m--> 133\u001b[0m         x \u001b[38;5;241m=\u001b[39m \u001b[43mlayer\u001b[49m\u001b[43m(\u001b[49m\u001b[43mx\u001b[49m\u001b[43m)\u001b[49m\n\u001b[1;32m    134\u001b[0m     \u001b[38;5;28mself\u001b[39m\u001b[38;5;241m.\u001b[39mout \u001b[38;5;241m=\u001b[39m x\n\u001b[1;32m    135\u001b[0m     \u001b[38;5;28;01mreturn\u001b[39;00m \u001b[38;5;28mself\u001b[39m\u001b[38;5;241m.\u001b[39mout\n",
      "\u001b[0;31mKeyboardInterrupt\u001b[0m: "
     ]
    }
   ],
   "source": [
    "max_steps = 20000\n",
    "batch_size = 32\n",
    "lossi = []\n",
    "ud = []\n",
    "lr = 0.001\n",
    "# optimizer = torch.optim.Adam([p['param'] for p in parameters], lr=0.001)  \n",
    "optimizer = Adam([p for p in parameters], lr=lr)\n",
    "\n",
    "for i in range(max_steps):\n",
    "    ix = torch.randint(0, Xtrain.shape[0], (batch_size, ))\n",
    "    Xb, Yb = Xtrain[ix], Ytrain[ix]\n",
    "\n",
    "    # forward pass:\n",
    "    logits = model(Xb)\n",
    "    loss = F.cross_entropy(logits, Yb)\n",
    "    \n",
    "    for p in parameters:\n",
    "        p.grad = None\n",
    "    loss.backward()\n",
    "\n",
    "    # adam optimizer:\n",
    "    optimizer.step()\n",
    "\n",
    "    # stochastic gradient descent:\n",
    "    # lr = 0.1 if i < 100000 else 0.01\n",
    "    # for p in parameters:\n",
    "    #     p.data -= lr * p.grad\n",
    "    if i % 100 == 0:\n",
    "        print(f\"{i:7d}/{max_steps:7d}: {loss.item():.4f}\")\n",
    "    lossi.append(loss.log10().item())\n",
    "    with torch.no_grad():\n",
    "        ud.append([(lr * p.grad.std() / p.data.std()).log10().item() for p in parameters])\n",
    "    \n"
   ]
  },
  {
   "cell_type": "code",
   "execution_count": 30,
   "metadata": {},
   "outputs": [
    {
     "data": {
      "text/plain": [
       "(torch.float32, torch.int64)"
      ]
     },
     "execution_count": 30,
     "metadata": {},
     "output_type": "execute_result"
    }
   ],
   "source": [
    "\n",
    "logits.dtype, Yb.dtype"
   ]
  },
  {
   "cell_type": "code",
   "execution_count": 18,
   "metadata": {},
   "outputs": [
    {
     "name": "stdout",
     "output_type": "stream",
     "text": [
      "[0, 0, 0, 0, 11, 25, 18, 5] --> 5\n",
      "[0, 0, 0, 0, 5, 13, 13, 1] --> 12\n",
      "[0, 0, 22, 9, 14, 9, 3, 9] --> 21\n",
      "[0, 0, 0, 0, 0, 0, 22, 1] --> 14\n",
      "[0, 0, 0, 19, 25, 11, 19, 20] --> 21\n",
      "[0, 0, 0, 0, 0, 0, 11, 8] --> 5\n",
      "[0, 0, 0, 0, 0, 19, 23, 1] --> 18\n",
      "[0, 0, 0, 9, 26, 15, 12, 4] --> 1\n",
      "[0, 0, 0, 0, 0, 26, 15, 18] --> 9\n",
      "[0, 0, 0, 0, 0, 11, 5, 11] --> 15\n",
      "[0, 0, 0, 0, 0, 0, 0, 4] --> 1\n",
      "[0, 0, 0, 0, 0, 0, 0, 0] --> 19\n",
      "[0, 0, 0, 0, 11, 1, 13, 9] --> 12\n",
      "[0, 0, 0, 0, 26, 1, 13, 1] --> 14\n",
      "[0, 0, 0, 0, 0, 0, 0, 5] --> 22\n",
      "[0, 0, 0, 0, 0, 0, 0, 0] --> 10\n",
      "[0, 8, 1, 16, 16, 9, 14, 5] --> 19\n",
      "[0, 0, 0, 0, 0, 0, 0, 25] --> 1\n",
      "[0, 0, 0, 0, 0, 13, 5, 12] --> 18\n",
      "[0, 0, 0, 0, 0, 0, 0, 1] --> 5\n",
      "[0, 0, 0, 0, 0, 10, 1, 13] --> 5\n",
      "[0, 0, 0, 0, 0, 0, 1, 4] --> 22\n",
      "[0, 0, 0, 0, 13, 15, 14, 20] --> 18\n",
      "[0, 0, 0, 6, 1, 12, 3, 15] --> 14\n",
      "[0, 0, 0, 0, 0, 19, 1, 9] --> 12\n",
      "[0, 0, 0, 0, 0, 0, 0, 0] --> 20\n",
      "[0, 0, 0, 19, 15, 16, 8, 9] --> 1\n",
      "[0, 0, 0, 0, 12, 21, 4, 15] --> 19\n",
      "[0, 0, 0, 0, 0, 25, 15, 19] --> 8\n",
      "[0, 0, 0, 0, 0, 0, 0, 0] --> 11\n",
      "[0, 0, 0, 0, 0, 0, 0, 0] --> 15\n",
      "[0, 0, 0, 0, 0, 0, 0, 0] --> 1\n"
     ]
    }
   ],
   "source": [
    "Xb.shape, Yb.shape\n",
    "for x, y in zip(Xb, Yb):\n",
    "    print(x.tolist(), '-->', y.item())"
   ]
  },
  {
   "cell_type": "code",
   "execution_count": null,
   "metadata": {},
   "outputs": [],
   "source": []
  },
  {
   "cell_type": "code",
   "execution_count": 11,
   "metadata": {},
   "outputs": [],
   "source": [
    "plt.plot(torch.tensor(lossi).view(-1, 1000).mean(1))"
   ]
  },
  {
   "cell_type": "code",
   "execution_count": 12,
   "metadata": {},
   "outputs": [],
   "source": [
    "for layer in model.layers:\n",
    "    layer.training = False"
   ]
  },
  {
   "cell_type": "code",
   "execution_count": 13,
   "metadata": {},
   "outputs": [],
   "source": [
    "# evaluate the loss\n",
    "@torch.no_grad() # this decorator disables gradient tracking inside pytorch\n",
    "def split_loss(split):\n",
    "  x,y = {\n",
    "    'train': (Xtrain, Ytrain),\n",
    "    'val': (Xdev, Ydev),\n",
    "    'test': (Xtest, Ytest),\n",
    "  }[split]\n",
    "  logits = model(x)\n",
    "  loss = F.cross_entropy(logits, y)\n",
    "  print(split, loss.item())\n",
    "\n",
    "split_loss('train')\n",
    "split_loss('val')"
   ]
  },
  {
   "cell_type": "code",
   "execution_count": 14,
   "metadata": {},
   "outputs": [],
   "source": [
    "# sample from the model\n",
    "for _ in range(20):\n",
    "    \n",
    "    out = []\n",
    "    context = [0] * block_size # initialize with all ...\n",
    "    while True:\n",
    "      # forward pass the neural net\n",
    "      logits = model(torch.tensor([context]))\n",
    "      probs = F.softmax(logits, dim=1)\n",
    "      # sample from the distribution\n",
    "      ix = torch.multinomial(probs, num_samples=1).item()\n",
    "      # shift the context window and track the samples\n",
    "      context = context[1:] + [ix]\n",
    "      out.append(ix)\n",
    "      # if we sample the special '.' token, break\n",
    "      if ix == 0:\n",
    "        break\n",
    "    \n",
    "    print(''.join(itos[i] for i in out[:-1])) # decode and print the generated word"
   ]
  },
  {
   "cell_type": "code",
   "execution_count": 34,
   "metadata": {},
   "outputs": [
    {
     "name": "stdout",
     "output_type": "stream",
     "text": [
      "tensor([[0., 0., 0.,  ..., 0., 0., 0.],\n",
      "        [0., 0., 0.,  ..., 0., 0., 0.],\n",
      "        [0., 0., 0.,  ..., 0., 0., 0.],\n",
      "        ...,\n",
      "        [0., 0., 0.,  ..., 0., 0., 0.],\n",
      "        [0., 0., 0.,  ..., 0., 0., 0.],\n",
      "        [0., 0., 0.,  ..., 0., 0., 0.]])\n"
     ]
    }
   ],
   "source": [
    "def one_hot_encode(sequence, vocab_size=256):\n",
    "    one_hot = torch.zeros(sequence.size(0), vocab_size)\n",
    "    one_hot.scatter_(1, sequence.unsqueeze(1), 1)\n",
    "    return one_hot\n",
    "\n",
    "# Example sequence\n",
    "sequence = torch.tensor([131, 128, 129, 131, 131, 130, 131, 132, 121, 121, 122, 125, 126, 125, 124, 126])\n",
    "\n",
    "# One-hot encode the sequence\n",
    "one_hot_sequence = one_hot_encode(sequence)\n",
    "print(one_hot_sequence) "
   ]
  },
  {
   "cell_type": "code",
   "execution_count": null,
   "metadata": {},
   "outputs": [],
   "source": []
  }
 ],
 "metadata": {
  "kernelspec": {
   "display_name": "wavenet-from-scratch-py3.10",
   "language": "python",
   "name": "wavenet-from-scratch-py3.10"
  },
  "language_info": {
   "codemirror_mode": {
    "name": "ipython",
    "version": 3
   },
   "file_extension": ".py",
   "mimetype": "text/x-python",
   "name": "python",
   "nbconvert_exporter": "python",
   "pygments_lexer": "ipython3",
   "version": "3.10.12"
  }
 },
 "nbformat": 4,
 "nbformat_minor": 2
}
